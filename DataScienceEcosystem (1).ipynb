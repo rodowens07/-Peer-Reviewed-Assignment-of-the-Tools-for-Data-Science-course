{
 "cells": [
  {
   "cell_type": "markdown",
   "id": "e40b321f-b626-48b0-be14-603d6113c8d9",
   "metadata": {},
   "source": [
    "#  Data Science Tools and Ecosystem"
   ]
  },
  {
   "cell_type": "markdown",
   "id": "96b8a932-194b-443e-a902-a48063b1c907",
   "metadata": {},
   "source": [
    "In this notebook, Data Science Tools and Ecosystem are summarized."
   ]
  },
  {
   "cell_type": "markdown",
   "id": "526e5e31-a38b-456e-924b-870efddb82a0",
   "metadata": {},
   "source": [
    "**Objectives:**\n",
    "\n",
    "- Identify common libraries used in Data Science.\n",
    "- Introduce arithmetic expressions in Python.\n",
    "- Create and interpret tables of Data Science tools.\n",
    "- Understand the purpose of version control in Data Science projects.\n",
    "- Basics of how to use Jupyter and anaconda\n",
    "\n",
    "## Author\n",
    "Rhodri Owens"
   ]
  },
  {
   "cell_type": "markdown",
   "id": "99a32751-8d32-4ef1-aa09-66ae6aa54ab2",
   "metadata": {},
   "source": [
    "Some of the popular languages that Data Scientists use are:\n",
    "\n",
    "1. Python\n",
    "2. R\n",
    "3. SQL"
   ]
  },
  {
   "cell_type": "markdown",
   "id": "70b70d3e-49ae-4a1c-9a95-573d7fe39844",
   "metadata": {},
   "source": [
    "Some of the commonly used libraries used by Data Scientists include:\n",
    "\n",
    "1. Pandas\n",
    "2. NumPy\n",
    "3. Matplotlib\n",
    "4. TensorFlow\n",
    "5. Scikit-learn\n"
   ]
  },
  {
   "cell_type": "markdown",
   "id": "96054567-2085-4aff-8f4d-369a1aec1a99",
   "metadata": {},
   "source": [
    "| Data Science Tools        |\n",
    "|---------------------------|\n",
    "| Jupyter Notebooks          |\n",
    "| RStudio                    |\n",
    "| Spyder            |"
   ]
  },
  {
   "cell_type": "markdown",
   "id": "1c38c6bd-2a82-4b23-ac42-e28daf3accd9",
   "metadata": {},
   "source": [
    "### Below are a few examples of evaluating arithmetic expressions in Python."
   ]
  },
  {
   "cell_type": "code",
   "execution_count": 7,
   "id": "cadb2e28-b7e2-4a58-a5a1-4d7fc35823f3",
   "metadata": {},
   "outputs": [
    {
     "data": {
      "text/plain": [
       "17"
      ]
     },
     "execution_count": 7,
     "metadata": {},
     "output_type": "execute_result"
    }
   ],
   "source": [
    "# This a simple arithmetic expression to multiply then add integers\n",
    "(3*4)+5"
   ]
  },
  {
   "cell_type": "code",
   "execution_count": 16,
   "id": "66e610d1-f47c-4dbb-ad5e-53e0414e21b3",
   "metadata": {},
   "outputs": [
    {
     "name": "stdout",
     "output_type": "stream",
     "text": [
      "3.3333333333333335\n"
     ]
    }
   ],
   "source": [
    "#  This will convert 200 minutes to hours by diving by 60\n",
    "Hours = 200/60\n",
    "print (Hours)"
   ]
  },
  {
   "cell_type": "code",
   "execution_count": null,
   "id": "639ddc8b-90da-4939-9d35-ec869628c330",
   "metadata": {},
   "outputs": [],
   "source": []
  },
  {
   "cell_type": "code",
   "execution_count": null,
   "id": "6adaede9-6db8-487e-b8e8-9c5108ece3bb",
   "metadata": {},
   "outputs": [],
   "source": []
  }
 ],
 "metadata": {
  "kernelspec": {
   "display_name": "Python 3 (ipykernel)",
   "language": "python",
   "name": "python3"
  },
  "language_info": {
   "codemirror_mode": {
    "name": "ipython",
    "version": 3
   },
   "file_extension": ".py",
   "mimetype": "text/x-python",
   "name": "python",
   "nbconvert_exporter": "python",
   "pygments_lexer": "ipython3",
   "version": "3.12.4"
  }
 },
 "nbformat": 4,
 "nbformat_minor": 5
}
